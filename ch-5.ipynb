{
 "cells": [
  {
   "cell_type": "markdown",
   "metadata": {},
   "source": [
    "# Inference (Ch 5)\n",
    "\n",
    "You will be performing the required computations directly as presented in the videos. \n",
    "\n",
    "Following are the new constants, objects and methods needed for this chapter. \n",
    "\n",
    "New constant in numpy: nan\n",
    "\n",
    "New methods in numpy: sqrt\n",
    "\n",
    "New objects in scipy.stats: f, t, chi2\n",
    "\n",
    "New methods in pandas: dropna and notna"
   ]
  },
  {
   "cell_type": "markdown",
   "metadata": {},
   "source": [
    "## New Constant in numpy\n",
    "\n",
    "numpy includes several constant values of which nan represents number not available"
   ]
  },
  {
   "cell_type": "markdown",
   "metadata": {},
   "source": [
    "### nan\n",
    "Used to designate missing numbers in a dataset"
   ]
  },
  {
   "cell_type": "code",
   "execution_count": 54,
   "metadata": {},
   "outputs": [
    {
     "name": "stdout",
     "output_type": "stream",
     "text": [
      "3 nan 5\n"
     ]
    }
   ],
   "source": [
    "import numpy as np\n",
    "print(3,np.nan,5)"
   ]
  },
  {
   "cell_type": "markdown",
   "metadata": {},
   "source": [
    "## New methods in numpy\n",
    "\n",
    "### sqrt\n",
    "Calculates the square root of a number"
   ]
  },
  {
   "cell_type": "code",
   "execution_count": 55,
   "metadata": {},
   "outputs": [
    {
     "data": {
      "text/plain": [
       "3.1622776601683795"
      ]
     },
     "execution_count": 55,
     "metadata": {},
     "output_type": "execute_result"
    }
   ],
   "source": [
    "np.sqrt(10)"
   ]
  },
  {
   "cell_type": "markdown",
   "metadata": {},
   "source": [
    "## New continuous distribution objects: t, f, chi2"
   ]
  },
  {
   "cell_type": "markdown",
   "metadata": {},
   "source": [
    "### t\n",
    "\n",
    "The t distribution with parameters df. Widely used for small sample sizes in place of normal distribution. \n",
    "\n",
    "Following is a sample application of the cdf and ppf methods. "
   ]
  },
  {
   "cell_type": "code",
   "execution_count": 56,
   "metadata": {},
   "outputs": [
    {
     "name": "stdout",
     "output_type": "stream",
     "text": [
      "Pr( 10 <= z <= 15| df=5) = 7.355159421096324e-05\n"
     ]
    }
   ],
   "source": [
    "import scipy.stats as stat\n",
    "print('Pr( 10 <= z <= 15| df=5) =',stat.t.cdf(15, 5) - stat.t.cdf(10, 5))"
   ]
  },
  {
   "cell_type": "code",
   "execution_count": 57,
   "metadata": {},
   "outputs": [
    {
     "name": "stdout",
     "output_type": "stream",
     "text": [
      "The value of a so that Pr( x <= a | df=5 ) = 0.997 is  4.570347443402741\n"
     ]
    }
   ],
   "source": [
    "print('The value of a so that Pr( x <= a | df=5 ) = 0.997 is ',stat.t.ppf( 0.997, 5))"
   ]
  },
  {
   "cell_type": "markdown",
   "metadata": {},
   "source": [
    "### f\n",
    "\n",
    "The F distribution with parameters df1 and df2, used to test if variances of two samples are the same. \n",
    "\n",
    "Following is a sample application of the cdf and ppf methods. "
   ]
  },
  {
   "cell_type": "code",
   "execution_count": 58,
   "metadata": {},
   "outputs": [
    {
     "name": "stdout",
     "output_type": "stream",
     "text": [
      "Pr( 10 <= z <= 15| df1=5, df2=8) = 0.002050753112142867\n"
     ]
    }
   ],
   "source": [
    "print('Pr( 10 <= z <= 15| df1=5, df2=8) =',stat.f.cdf(15, 5, 8) - stat.f.cdf(10, 5, 8))"
   ]
  },
  {
   "cell_type": "code",
   "execution_count": 59,
   "metadata": {},
   "outputs": [
    {
     "name": "stdout",
     "output_type": "stream",
     "text": [
      "The value of a so that Pr( x <= a | df1=5 df2=8) = 0.997 is  9.72880064885152\n"
     ]
    }
   ],
   "source": [
    "print('The value of a so that Pr( x <= a | df1=5 df2=8) = 0.997 is ',stat.f.ppf( 0.997, 5, 8))"
   ]
  },
  {
   "cell_type": "markdown",
   "metadata": {},
   "source": [
    "### chi2\n",
    "\n",
    "The Chi-square distribution with parameter df, used to test one sample variances.  \n",
    "\n",
    "Following is a sample application of the cdf and ppf methods. "
   ]
  },
  {
   "cell_type": "code",
   "execution_count": 60,
   "metadata": {},
   "outputs": [
    {
     "name": "stdout",
     "output_type": "stream",
     "text": [
      "Pr( 10 <= z <= 15| df=5) = 0.06487290823072578\n"
     ]
    }
   ],
   "source": [
    "print('Pr( 10 <= z <= 15| df=5) =',stat.chi2.cdf(15, 5) - stat.chi2.cdf(10, 5))"
   ]
  },
  {
   "cell_type": "code",
   "execution_count": 61,
   "metadata": {},
   "outputs": [
    {
     "name": "stdout",
     "output_type": "stream",
     "text": [
      "The value of a so that Pr( x <= a | df=5) = 0.997 is  17.95761226739146\n"
     ]
    }
   ],
   "source": [
    "print('The value of a so that Pr( x <= a | df=5) = 0.997 is ',stat.chi2.ppf( 0.997, 5))"
   ]
  },
  {
   "cell_type": "markdown",
   "metadata": {},
   "source": [
    "## New methods in pandas: dropna and notna"
   ]
  },
  {
   "cell_type": "markdown",
   "metadata": {},
   "source": [
    "### dropna\n",
    "remove empty rows/columns from a dataframe"
   ]
  },
  {
   "cell_type": "code",
   "execution_count": 62,
   "metadata": {},
   "outputs": [
    {
     "name": "stdout",
     "output_type": "stream",
     "text": [
      "   age\n",
      "0  5.0\n",
      "1  NaN\n",
      "2  6.0\n",
      "   age\n",
      "0  5.0\n",
      "2  6.0\n"
     ]
    }
   ],
   "source": [
    "import pandas as pd\n",
    "df = pd.DataFrame({'age': [5, np.nan, 6 ]})\n",
    "print(df)\n",
    "print(df.dropna())"
   ]
  },
  {
   "cell_type": "markdown",
   "metadata": {},
   "source": [
    "### notna\n",
    "detects empty rows/columns in a dataframe "
   ]
  },
  {
   "cell_type": "code",
   "execution_count": 63,
   "metadata": {},
   "outputs": [
    {
     "name": "stdout",
     "output_type": "stream",
     "text": [
      "     age\n",
      "0   True\n",
      "1  False\n",
      "2   True\n"
     ]
    }
   ],
   "source": [
    "print(df.notna())"
   ]
  }
 ],
 "metadata": {
  "kernelspec": {
   "display_name": "Python 3",
   "language": "python",
   "name": "python3"
  },
  "language_info": {
   "codemirror_mode": {
    "name": "ipython",
    "version": 3
   },
   "file_extension": ".py",
   "mimetype": "text/x-python",
   "name": "python",
   "nbconvert_exporter": "python",
   "pygments_lexer": "ipython3",
   "version": "3.7.3"
  }
 },
 "nbformat": 4,
 "nbformat_minor": 2
}
